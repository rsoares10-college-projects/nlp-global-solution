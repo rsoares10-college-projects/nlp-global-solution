{
 "cells": [
  {
   "cell_type": "markdown",
   "metadata": {},
   "source": [
    "# Global Solution 1 - 2TIAR - Natural Language Processing\n",
    "\n",
    "### Integrantes: \n",
    "* Rafael Monteiro - 88668\n",
    "* Wellington Santos- 87743\n",
    "\n",
    "## Análise de Sentimento de reviews de produtos vendidos pela Amazon\n",
    "\n",
    "Que a Amazon é uma das maiores empresas da atualidade, todo mundo já sabe, mas, você sabia que a análise de sentimento dos reviews dados pelos usuários em seu marketplace, é usado frequentemente para melhoria dos produtos e serviços? E é claro, que como uma empresa tecnológica que é, isso não é feito de forma manual. Algoritmos de machine learning são executados diariamente para realizar essas análises de forma automática.\n",
    "\n",
    "Sabendo disso, aqui pode ser encontrado uma pequena amostra da base de dados de reviews da Amazon. O trabalho da equipe é desenvolver um modelo para inferir se aquele review é bom ou ruim.\n",
    "\n",
    "As métricas de avaliação ficam a escolha da equipe, porém, atentem-se ao fato de que reviews negativas são bem mais impactantes para o negócio que as positivas. Nesse caso, justifique a escolha da métrica."
   ]
  },
  {
   "cell_type": "markdown",
   "metadata": {},
   "source": [
    "### Instalação dos módulos"
   ]
  },
  {
   "cell_type": "code",
   "execution_count": 1,
   "metadata": {},
   "outputs": [],
   "source": [
    "# !pip install nltk"
   ]
  },
  {
   "cell_type": "markdown",
   "metadata": {},
   "source": [
    "### Import dos módulos"
   ]
  },
  {
   "cell_type": "markdown",
   "metadata": {},
   "source": [
    "### Análise exploratória"
   ]
  },
  {
   "cell_type": "markdown",
   "metadata": {},
   "source": [
    "### Pré-processamento do texto"
   ]
  },
  {
   "cell_type": "markdown",
   "metadata": {},
   "source": [
    "### Separação de conjutos de treino e teste"
   ]
  },
  {
   "cell_type": "markdown",
   "metadata": {},
   "source": [
    "### Treinamento do modelo"
   ]
  },
  {
   "cell_type": "markdown",
   "metadata": {},
   "source": [
    "### Inferência"
   ]
  },
  {
   "cell_type": "markdown",
   "metadata": {},
   "source": [
    "### Avaliação do modelo"
   ]
  },
  {
   "cell_type": "markdown",
   "metadata": {},
   "source": []
  }
 ],
 "metadata": {
  "interpreter": {
   "hash": "0847cda728ef3e0f335e7e94b5a043d9a0fda1c620343fc6302f7013063303dc"
  },
  "kernelspec": {
   "display_name": "Python 3.9.7 ('nlp')",
   "language": "python",
   "name": "python3"
  },
  "language_info": {
   "codemirror_mode": {
    "name": "ipython",
    "version": 3
   },
   "file_extension": ".py",
   "mimetype": "text/x-python",
   "name": "python",
   "nbconvert_exporter": "python",
   "pygments_lexer": "ipython3",
   "version": "3.9.12"
  },
  "orig_nbformat": 4
 },
 "nbformat": 4,
 "nbformat_minor": 2
}
