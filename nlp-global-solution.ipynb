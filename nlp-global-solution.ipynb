{
 "cells": [
  {
   "cell_type": "markdown",
   "metadata": {},
   "source": [
    "# Global Solution 1 - 2TIAR - Natural Language Processing\n",
    "\n",
    "### Members:\n",
    "* Rafael Monteiro - 88668\n",
    "* Wellington Santos- 87743\n",
    "\n",
    "## Sentiment Analysis of product reviews sold by Amazon\n",
    "\n",
    "That Amazon is one of the biggest companies today, everyone already knows, but did you know that a sentiment analysis of the comments given by users on the marketplace is often used to improve products and services? And of course, as a technology company, this is not done manually. Machine learning algorithms are applied daily to perform these queries.\n",
    "\n",
    "Knowing that, here you can find a small sample of Amazon's review database. The team's job is to develop a model to infer whether that review is good or bad.\n",
    "\n",
    "The evaluation measures should be the team's choices, however, be aware that negative reviews have a great impact on the business. In this case, justify the choice of metric."
   ]
  },
  {
   "cell_type": "markdown",
   "metadata": {},
   "source": [
    "### NLTK\n",
    "For this exercise we will be working with NLTK (Natural Language Toolkit) module for sentiment analysis. We chose this module because it's  a very powerful tool, It has a lot of pre-trained models and corpora which helps us to analyze things very easily. \n",
    "\n",
    "Bellow we install NLTK package and download all features for performing NLP work. We do this through the command nltk.download(). \n",
    "\n",
    "*Obs: If already have installed the package and already download its dependencies don't run the following two cells. In the bellow image you can see we already have the package and its dependencies downloaded*\n",
    "\n",
    "![alt text](nltk-download.png \"nltk.download() pop-up\")\n"
   ]
  },
  {
   "cell_type": "code",
   "execution_count": 1,
   "metadata": {},
   "outputs": [],
   "source": [
    "# !pip install nltk"
   ]
  },
  {
   "cell_type": "code",
   "execution_count": 2,
   "metadata": {},
   "outputs": [],
   "source": [
    "# nltk.download()"
   ]
  },
  {
   "cell_type": "markdown",
   "metadata": {},
   "source": [
    "### Module importation block\n",
    "\n",
    "Here we imported modules for helping on text punctuation removal, data analysis and visualization, the nltk module and sklearn to use t's train_test_split  object."
   ]
  },
  {
   "cell_type": "code",
   "execution_count": 1,
   "metadata": {},
   "outputs": [],
   "source": [
    "# Text preprocessing\n",
    "from string import punctuation\n",
    "\n",
    "# Data visualization\n",
    "import matplotlib.pyplot as plt\n",
    "import seaborn as sns\n",
    "\n",
    "# Data analysis\n",
    "import pandas as pd\n",
    "\n",
    "# Machine Learning\n",
    "from sklearn.model_selection import train_test_split\n",
    "from nltk.metrics import ConfusionMatrix\n",
    "import nltk"
   ]
  },
  {
   "cell_type": "markdown",
   "metadata": {},
   "source": [
    "### Dataset overview"
   ]
  },
  {
   "cell_type": "code",
   "execution_count": 2,
   "metadata": {},
   "outputs": [],
   "source": [
    "df = pd.read_csv('./data/amazon_sentiment_analysis.csv') # Load Amazon product reviews\n"
   ]
  },
  {
   "cell_type": "markdown",
   "metadata": {},
   "source": [
    "Here we get a glimpse of data ir organized on the dataset. We got two columns, one with raw text, reviews, adn another with the labels,  sentiment. Also there are only two labels to work with: bad or good."
   ]
  },
  {
   "cell_type": "code",
   "execution_count": 38,
   "metadata": {},
   "outputs": [
    {
     "name": "stdout",
     "output_type": "stream",
     "text": [
      "                                              review sentiment\n",
      "0  Expensive Junk: This product consists of a pie...       bad\n",
      "1  Toast too dark: Even on the lowest setting, th...       bad\n",
      "2  Excellent imagery...dumbed down story: I enjoy...      good\n",
      "3  Are we pretending everyone is married?: The au...       bad\n",
      "4  Not worth your time: Might as well just use a ...       bad\n",
      "5  Book reads like written for grade schoolers: I...       bad\n",
      "6  Jeanne de Florette & Manon of the Springs: I s...       bad\n",
      "7  Theater Projector Ceiling Mount: Would not fit...       bad\n",
      "8  This import is sooooooooooo good: This is a gr...      good\n",
      "9  Garbage: The handle broke clean off after TWO ...       bad\n"
     ]
    }
   ],
   "source": [
    "print(df.head(10))"
   ]
  },
  {
   "cell_type": "markdown",
   "metadata": {},
   "source": [
    "Here we we can see a bit more detailed information about the dataset. We got 559500 entries, which is a pretty nice size to work with and we got no missing values."
   ]
  },
  {
   "cell_type": "code",
   "execution_count": 17,
   "metadata": {},
   "outputs": [
    {
     "name": "stdout",
     "output_type": "stream",
     "text": [
      "<class 'pandas.core.frame.DataFrame'>\n",
      "RangeIndex: 559500 entries, 0 to 559499\n",
      "Data columns (total 2 columns):\n",
      " #   Column     Non-Null Count   Dtype \n",
      "---  ------     --------------   ----- \n",
      " 0   review     559500 non-null  object\n",
      " 1   sentiment  559500 non-null  object\n",
      "dtypes: object(2)\n",
      "memory usage: 8.5+ MB\n",
      "\n",
      "Mssing Values Count:\n",
      "review       0\n",
      "sentiment    0\n",
      "dtype: int64\n"
     ]
    }
   ],
   "source": [
    "df.info()\n",
    "print(f'\\nMssing Values Count:')\n",
    "print(f'{df.isnull().sum()}')"
   ]
  },
  {
   "cell_type": "markdown",
   "metadata": {},
   "source": [
    "### EDA - Exploratory Data Analysis\n",
    "\n",
    "Here we don't want to make a deep analysis on the Amazon's products reviews data, but only provide an overview of how the data is balanced. That being said, we plotted the dependent variable distribution.\n",
    "\n",
    "The data here is well balanced no need to think about any data augmentation  strategy ."
   ]
  },
  {
   "cell_type": "code",
   "execution_count": 20,
   "metadata": {},
   "outputs": [
    {
     "data": {
      "image/png": "[encoded data removed]",
      "text/plain": [
       "<Figure size 432x288 with 1 Axes>"
      ]
     },
     "metadata": {
      "needs_background": "light"
     },
     "output_type": "display_data"
    }
   ],
   "source": [
    "sns.countplot(x = df['sentiment'])\n",
    "plt.show()"
   ]
  },
  {
   "cell_type": "markdown",
   "metadata": {},
   "source": [
    "### Text Preprocessing\n",
    "\n",
    "First we define a few functions for preprocessing the reviews. We define functions to remove punctuation, stopwords, apply stemming, to get all unique words on the data dataset and to get text features.\n",
    "\n",
    "* We used a set of stopwords already provided by NLTK for the English language.\n",
    "* The function that get all unique words on the dataset does so because we need to create a text feature matrix. This matrix allows us to check the frequency in which word occurs and analyze the frequency vs the labels.\n"
   ]
  },
  {
   "cell_type": "code",
   "execution_count": 21,
   "metadata": {},
   "outputs": [],
   "source": [
    "stopwords = nltk.corpus.stopwords.words('english')  # Get stopwords"
   ]
  },
  {
   "cell_type": "code",
   "execution_count": 22,
   "metadata": {},
   "outputs": [],
   "source": [
    "def removeStopwords(text):\n",
    "    return  [word for word in text if word not in stopwords]\n",
    "\n",
    "def removePunctuation(text):\n",
    "    for p in punctuation:\n",
    "        text = text.replace(p, '')\n",
    "    return text\n",
    "\n",
    "def applyStemming(text):\n",
    "    return [nltk.PorterStemmer().stem(word) for word in text]\n",
    "\n",
    "def getUniqueWordsFromDataset(reviews):\n",
    "    document = []\n",
    "    for review in reviews:\n",
    "        textWithoutPunctuation = removePunctuation(review)\n",
    "        wordList = textWithoutPunctuation.split(' ')\n",
    "        textWithoutStopwords = removeStopwords(wordList)\n",
    "        textWithStemming = applyStemming(textWithoutStopwords)\n",
    "        document.extend(textWithStemming)\n",
    "    return set(document)"
   ]
  },
  {
   "cell_type": "markdown",
   "metadata": {},
   "source": [
    "The following cell gets all unique words for later use. It will create our word list of unique words."
   ]
  },
  {
   "cell_type": "code",
   "execution_count": 24,
   "metadata": {},
   "outputs": [],
   "source": [
    "uniqueWordList = getUniqueWordsFromDataset(df['review']) "
   ]
  },
  {
   "cell_type": "markdown",
   "metadata": {},
   "source": [
    "Right after we define a function to extract the text feature we need to train the model. Since we have all unique words on the dataset, the next steep is to verify the frequency in which them happen. So for each case that a word happens to be in the review we assign a True to it, otherwise we assign false.\n",
    "\n",
    "The getTextFeatures() function should return  something similar to this:\n",
    "\n",
    "```python\n",
    "{'electricity.': False, 'stay': True, 'unplug': True, 'light': True, 'dark': True, 'toast': True, 'avoid': True, 'liking.': False, 'not': True, 'setting,': False, 'dark:': False, 'lowest': True, 'i': True, 'cuisinart.': False, 'wast': True, 'even': True, 'also,': False, 'expect': True, 'qualiti': True, 'lit': True}\n",
    "```"
   ]
  },
  {
   "cell_type": "code",
   "execution_count": null,
   "metadata": {},
   "outputs": [],
   "source": [
    "def getTextFeatures(text):\n",
    "    features = {}vc\n",
    "    textWithStemming = applyStemming(textWithoutStopwords)\n",
    "    textWithoutDuplicatedWords = set(textWithStemming)\n",
    "    for word in textWithoutDuplicatedWords:\n",
    "        features['%s' % word] = (word in uniqueWordList)\n",
    "    return features\n"
   ]
  },
  {
   "cell_type": "markdown",
   "metadata": {},
   "source": [
    "Finally we should join the vectors of features (word occurrences) to their corresponding labels. Not only that, but we also need to format this that so we can work with it later on model training.\n",
    "\n",
    "For that we'll format the entire data site, review by review, removing stopwords and punctuation, applying word stemming and turing each review into a vector of features.\n",
    "\n",
    "In order of joining the vectors of features to its corresponding labels, we will be suing a NLTK function, apply_features(), which will extract each review's text features and match it with its corresponding label. The result will be the dataset for model training."
   ]
  },
  {
   "cell_type": "code",
   "execution_count": 32,
   "metadata": {},
   "outputs": [],
   "source": [
    "newDataset = []\n",
    "for _, row in df.iterrows():\n",
    "    rawText = row['review']\n",
    "    textWithNoPunctuation = removePunctuation(rawText)\n",
    "    wordList = textWithNoPunctuation.split(' ')\n",
    "    newDataset.append((applyStemming(removeStopwords(wordList)), row['sentiment']))\n",
    "\n",
    "newDataset = tuple(newDataset) # Convert dataset list to tupple\n",
    "finalDataset = nltk.classify.apply_features(getTextFeatures, newDataset) # Format data for model training"
   ]
  },
  {
   "cell_type": "markdown",
   "metadata": {},
   "source": [
    "### Train Test Split\n",
    "\n",
    "The goal now is to split the data between training and test datasets. We are going to use 30% of the data for testing and 70% for training."
   ]
  },
  {
   "cell_type": "code",
   "execution_count": 33,
   "metadata": {},
   "outputs": [],
   "source": [
    "train, test = train_test_split(finalDataset, test_size=0.30, random_state=42)"
   ]
  },
  {
   "cell_type": "markdown",
   "metadata": {},
   "source": [
    "### Model Training\n",
    "\n",
    "For model training we chose a Naive Bayes based model already provided by NLTK. So it's quite easy to train the model on train data."
   ]
  },
  {
   "cell_type": "code",
   "execution_count": 34,
   "metadata": {},
   "outputs": [],
   "source": [
    "model = nltk.NaiveBayesClassifier.train(train)"
   ]
  },
  {
   "cell_type": "markdown",
   "metadata": {},
   "source": [
    "### Inferences\n",
    "\n",
    "Next we make a few inferences about how the model performed  on test data,  and analyze most informative features from naive bayes model perspective."
   ]
  },
  {
   "cell_type": "code",
   "execution_count": 35,
   "metadata": {},
   "outputs": [
    {
     "name": "stdout",
     "output_type": "stream",
     "text": [
      "Labels:['good', 'bad']\n",
      "\n",
      "Most Informative Features\n",
      "                 musthav = True             good : bad    =     39.7 : 1.0\n",
      "                 mustbuy = True             good : bad    =     38.3 : 1.0\n",
      "                     yuk = True              bad : good   =     37.8 : 1.0\n",
      "                     drm = True              bad : good   =     37.6 : 1.0\n",
      "                nonfunct = True              bad : good   =     35.8 : 1.0\n",
      "                 unwatch = True              bad : good   =     33.8 : 1.0\n",
      "               excrement = True              bad : good   =     32.4 : 1.0\n",
      "                     rma = True              bad : good   =     31.0 : 1.0\n",
      "               worthless = True              bad : good   =     29.0 : 1.0\n",
      "               hodgepodg = True              bad : good   =     28.6 : 1.0\n"
     ]
    }
   ],
   "source": [
    "print(f'Labels:{model.labels()}\\n') # Labels learned by the model\n",
    "model.show_most_informative_features(n=10) # Features importance based on the model"
   ]
  },
  {
   "cell_type": "markdown",
   "metadata": {},
   "source": [
    "### Model test\n",
    "\n",
    "Here only check the model's performance using accuracy as our metric."
   ]
  },
  {
   "cell_type": "code",
   "execution_count": 36,
   "metadata": {},
   "outputs": [
    {
     "name": "stdout",
     "output_type": "stream",
     "text": [
      "Accuracy: 0.8236759011021746\n"
     ]
    }
   ],
   "source": [
    "print(f'Accuracy: {nltk.classify.accuracy(model, test)}')"
   ]
  },
  {
   "cell_type": "markdown",
   "metadata": {},
   "source": [
    "### Evaluating results\n",
    "\n",
    "next we build a confusion matrix to analyze how well th model performed."
   ]
  },
  {
   "cell_type": "code",
   "execution_count": 37,
   "metadata": {},
   "outputs": [
    {
     "name": "stdout",
     "output_type": "stream",
     "text": [
      "     |           g |\n",
      "     |     b     o |\n",
      "     |     a     o |\n",
      "     |     d     d |\n",
      "-----+-------------+\n",
      " bad |<77650> 6319 |\n",
      "good | 23277<60604>|\n",
      "-----+-------------+\n",
      "(row = reference; col = test)\n",
      "\n"
     ]
    }
   ],
   "source": [
    "expected = []\n",
    "predicted = []\n",
    "for (phrase, label) in test:\n",
    "    result = model.classify(phrase)\n",
    "    predicted.append(result)\n",
    "    expected.append(label)\n",
    "\n",
    "cm = ConfusionMatrix(expected, predicted)\n",
    "print(cm)\n"
   ]
  },
  {
   "cell_type": "markdown",
   "metadata": {},
   "source": [
    "### Conclusion \n",
    "\n",
    "The are several points to discuss here. First we did't want to go harder on NLP flow of machine learning. The idea was ot to build a ready-for-production model. Instead, the idea is to go through the NLP + NLTK text preprocessing, model training and test.\n",
    "\n",
    "* That being said, we have to consider that the punctuation removal process isn't well effective, since it gets confused sometimes and causes some misunderstandings .\n",
    "\n",
    "* The train test split wasn't well performed. Since we are not stratifying the split based on the dependent variable distribution, the results would vary a lot on tests. But the dataset is well balanced, so we got no issue on that.\n",
    "\n",
    "* We chose Naive Bayes model cause we are working only to labels, and this kind of model tend to perform well o this scenarios. However, we got too many features on our vector, which me reduce model accuracy with Naive Bases models.\n",
    "\n",
    "* We chose the accuracy as evaluation metric, but it proved not to be the best fit for evaluating this problem.  So we would not be able to deploy such this model for production without submitting it to other evaluation metrics. In such case, classifying a review negative as positive would hugely impact the business data analysis.\n",
    "\n",
    "\n",
    "The are several approaches we could go through, butt we hose one very simple and used not reliable methods of text preprocessing, data training and tests, but the goal was to learn more and fell how NLP work flow would look like with NLTK package."
   ]
  },
  {
   "cell_type": "markdown",
   "metadata": {},
   "source": []
  }
 ],
 "metadata": {
  "interpreter": {
   "hash": "0847cda728ef3e0f335e7e94b5a043d9a0fda1c620343fc6302f7013063303dc"
  },
  "kernelspec": {
   "display_name": "Python 3.9.7 ('nlp')",
   "language": "python",
   "name": "python3"
  },
  "language_info": {
   "codemirror_mode": {
    "name": "ipython",
    "version": 3
   },
   "file_extension": ".py",
   "mimetype": "text/x-python",
   "name": "python",
   "nbconvert_exporter": "python",
   "pygments_lexer": "ipython3",
   "version": "3.9.12"
  },
  "orig_nbformat": 4
 },
 "nbformat": 4,
 "nbformat_minor": 2
}
